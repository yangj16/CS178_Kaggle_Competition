{
 "cells": [
  {
   "cell_type": "markdown",
   "metadata": {},
   "source": [
    "# Kaggle Competition"
   ]
  },
  {
   "cell_type": "code",
   "execution_count": null,
   "metadata": {},
   "outputs": [],
   "source": [
    "import numpy as np\n",
    "import matplotlib.pyplot as plt\n",
    "import mltools as ml\n",
    "from sklearn.metrics import roc_auc_score\n",
    "\n",
    "np.random.seed(0)\n",
    "%matplotlib inline"
   ]
  },
  {
   "cell_type": "markdown",
   "metadata": {},
   "source": [
    "## Loading Data"
   ]
  },
  {
   "cell_type": "code",
   "execution_count": null,
   "metadata": {},
   "outputs": [],
   "source": [
    "# Load the training data\n",
    "X = np.genfromtxt('data/X_train.txt', delimiter=None)\n",
    "Y = np.genfromtxt('data/Y_train.txt', delimiter=None)\n",
    "\n",
    "# And the test features\n",
    "Xte = np.genfromtxt('data/X_test.txt', delimiter=None)"
   ]
  },
  {
   "cell_type": "code",
   "execution_count": null,
   "metadata": {},
   "outputs": [],
   "source": [
    "print(X.shape, Y.shape, Xte.shape)"
   ]
  },
  {
   "cell_type": "code",
   "execution_count": null,
   "metadata": {},
   "outputs": [],
   "source": [
    "# Xtr, Xva, Ytr, Yva = ml.splitData(X, Y) # Default is 80% training/20% validation\n",
    "# Xtr, Ytr = ml.shuffleData(Xtr, Ytr)\n",
    "\n",
    "X, Y = ml.shuffleData(X, Y)\n",
    "Xtr, Xva, Ytr, Yva = ml.splitData(X, Y, train_fraction=0.80)\n",
    "\n",
    "# Xtr, Xva, Ytr, Yva = ml.splitData(X, Y, train_fraction=0.80)\n",
    "# Xtr, Ytr = ml.shuffleData(Xtr, Ytr)"
   ]
  },
  {
   "cell_type": "code",
   "execution_count": null,
   "metadata": {},
   "outputs": [],
   "source": [
    "print(Xtr.shape, Xva.shape)"
   ]
  },
  {
   "cell_type": "code",
   "execution_count": null,
   "metadata": {},
   "outputs": [],
   "source": [
    "# Taking a subsample of the data so that trains faster.  You should train on whole data for the Kaggle competition.\n",
    "Xt, Yt = Xtr[:4000], Ytr[:4000]"
   ]
  },
  {
   "cell_type": "markdown",
   "metadata": {},
   "source": [
    "## kNN Classifier"
   ]
  },
  {
   "cell_type": "markdown",
   "metadata": {},
   "source": [
    "#### Approach #1"
   ]
  },
  {
   "cell_type": "code",
   "execution_count": null,
   "metadata": {
    "scrolled": false
   },
   "outputs": [],
   "source": [
    "from sklearn.neighbors import KNeighborsClassifier\n",
    "\n",
    "nBag = 20\n",
    "k = 6\n",
    "nChoice = 100000\n",
    "\n",
    "nTrainData = Xtr.shape[0]\n",
    "nVaData = Xva.shape[0]\n",
    "Ytr_hat_mat = np.zeros((nTrainData, nBag))\n",
    "Yva_hat_mat = np.zeros((nVaData, nBag))\n",
    "\n",
    "for i in range(nBag):\n",
    "    ind = np.random.choice(nTrainData, nChoice, replace=False)\n",
    "    Xi, Yi = Xtr[ind,:] , Ytr[ind]\n",
    "    neigh = KNeighborsClassifier(n_neighbors=k, weights=\"distance\", leaf_size=60)\n",
    "    neigh.fit(Xi, Yi)\n",
    "    Ytr_hat_mat[:,i] = neigh.predict(Xtr)\n",
    "    Yva_hat_mat[:,i] = neigh.predict(Xva)\n",
    "Ytr_hat = (np.mean(Ytr_hat_mat, axis=1) > 0).astype(int)\n",
    "Yva_hat = (np.mean(Yva_hat_mat, axis=1) > 0).astype(int)\n",
    "print('Training AUC:',roc_auc_score(Ytr, Ytr_hat))\n",
    "print('Validation AUC:',roc_auc_score(Yva, Yva_hat))"
   ]
  },
  {
   "cell_type": "markdown",
   "metadata": {},
   "source": [
    "#### Approach #2"
   ]
  },
  {
   "cell_type": "code",
   "execution_count": null,
   "metadata": {},
   "outputs": [],
   "source": [
    "from sklearn.neighbors import KNeighborsClassifier\n",
    "neigh = KNeighborsClassifier(n_neighbors=7)\n",
    "neigh.fit(Xtr, Ytr)\n",
    "Ytr_hat = neigh.predict(Xtr)\n",
    "print('Training AUC:',roc_auc_score(Ytr, Ytr_hat))\n",
    "Yva_hat = neigh.predict(Xva)\n",
    "print('Validation AUC:',roc_auc_score(Yva, Yva_hat))"
   ]
  },
  {
   "cell_type": "markdown",
   "metadata": {},
   "source": [
    "## Neural Network"
   ]
  },
  {
   "cell_type": "markdown",
   "metadata": {},
   "source": [
    "#### Approach #1"
   ]
  },
  {
   "cell_type": "code",
   "execution_count": null,
   "metadata": {},
   "outputs": [],
   "source": [
    "nn = ml.nnet.nnetClassify()\n",
    "nn.init_weights([Xtr.shape[1], 2000, len(np.unique(Ytr))], 'random', Xtr, Ytr)\n",
    "nn.setActivation('logistic')\n",
    "\n",
    "nn.train(Xtr, Ytr, stopTol=1e-8, stepsize=.25, stopIter=30)\n",
    "print(\"{0:>15}: {1:.4f}\".format('Train AUC',nn.auc(Xtr, Ytr)))\n",
    "print(\"{0:>15}: {1:.4f}\".format('Validation AUC', nn.auc(Xva, Yva)))"
   ]
  },
  {
   "cell_type": "markdown",
   "metadata": {},
   "source": [
    "#### Approach #2"
   ]
  },
  {
   "cell_type": "code",
   "execution_count": null,
   "metadata": {},
   "outputs": [],
   "source": [
    "from sklearn.neural_network import MLPClassifier\n",
    "\n",
    "clf_nnet = MLPClassifier(learning_rate='adaptive', solver='sgd', activation=\"logistic\",\n",
    "                         learning_rate_init=0.01, hidden_layer_sizes=(6000, 400, 20), max_iter=100)\n",
    "clf_nnet.fit(Xtr, Ytr)\n",
    "Ytr_hat = clf_nnet.predict(Xtr)\n",
    "Yva_hat = clf_nnet.predict(Xva)\n",
    "print('Train AUC:',roc_auc_score(Ytr, Ytr_hat))\n",
    "print('Validation AUC:',roc_auc_score(Yva, Yva_hat))"
   ]
  },
  {
   "cell_type": "markdown",
   "metadata": {},
   "source": [
    "## Submitting Predictions"
   ]
  },
  {
   "cell_type": "code",
   "execution_count": null,
   "metadata": {},
   "outputs": [],
   "source": [
    "from sklearn.neighbors import KNeighborsClassifier\n",
    "\n",
    "Xtr = X\n",
    "Ytr = Y\n",
    "\n",
    "nBag = 20\n",
    "k = 6\n",
    "\n",
    "nTrainData = Xtr.shape[0]\n",
    "nTestData = Xte.shape[0]\n",
    "nChoice = 100000\n",
    "Ytr_hat_mat = np.zeros((nTrainData, nBag))\n",
    "Yte_hat_mat = np.zeros((nTestData, nBag))\n",
    "Yte_prob_mat = np.zeros((nTestData, nBag))\n",
    "\n",
    "for i in range(nBag):\n",
    "    ind = np.random.choice(nTrainData, nChoice, replace=False)\n",
    "    Xi, Yi = Xtr[ind,:] , Ytr[ind]\n",
    "    neigh = KNeighborsClassifier(n_neighbors=k, weights=\"distance\", leaf_size=60)\n",
    "    neigh.fit(Xi, Yi)\n",
    "    Ytr_hat_mat[:,i] = neigh.predict(Xtr)\n",
    "    Yte_hat_mat[:,i] = neigh.predict(Xte)\n",
    "    Yte_prob_mat[:,i] = neigh.predict_proba(Xte)[:, 1]\n",
    "Ytr_hat = (np.mean(Ytr_hat_mat, axis=1) > 0).astype(int)\n",
    "Yte_hat = (np.mean(Yte_hat_mat, axis=1) > 0).astype(int)\n",
    "Yte_prob = np.mean(Yte_prob_mat, axis=1)\n",
    "print('Training AUC:',roc_auc_score(Ytr, Ytr_hat))"
   ]
  },
  {
   "cell_type": "code",
   "execution_count": null,
   "metadata": {},
   "outputs": [],
   "source": [
    "from sklearn.neighbors import KNeighborsClassifier\n",
    "neigh = KNeighborsClassifier(n_neighbors=7)\n",
    "neigh.fit(Xtr, Ytr)\n",
    "Ytr_hat = neigh.predict(Xtr)\n",
    "print('Training AUC:',roc_auc_score(Ytr, Ytr_hat))\n",
    "Yva_hat = neigh.predict(Xva)\n",
    "print('Validation AUC:',roc_auc_score(Yva, Yva_hat))\n",
    "\n",
    "probs = neigh.predict_proba(Xte)"
   ]
  },
  {
   "cell_type": "code",
   "execution_count": null,
   "metadata": {},
   "outputs": [],
   "source": [
    "# Create the data for submission by taking the P(Y=1) column from probs and just add a running index as the first column.\n",
    "Y_sub = np.vstack([np.arange(Xte.shape[0]), probs[:, 1]]).T\n",
    "\n",
    "# We specify the header (ID, Prob1) and also specify the comments as '' so the header won't be commented out with\n",
    "# the # sign.\n",
    "np.savetxt('data/Y_sub.txt', Y_sub, '%d, %.5f', header='ID,Prob1', comments='', delimiter=',')"
   ]
  },
  {
   "cell_type": "code",
   "execution_count": null,
   "metadata": {},
   "outputs": [],
   "source": [
    "# Create the data for submission by taking the P(Y=1) column from probs and just add a running index as the first column.\n",
    "Y_sub = np.vstack([np.arange(Xte.shape[0]), Yte_prob]).T\n",
    "\n",
    "# We specify the header (ID, Prob1) and also specify the comments as '' so the header won't be commented out with\n",
    "# the # sign.\n",
    "np.savetxt('data/Y_sub.txt', Y_sub, '%d, %.5f', header='ID,Prob1', comments='', delimiter=',')"
   ]
  },
  {
   "cell_type": "markdown",
   "metadata": {},
   "source": [
    "# Random Forest"
   ]
  },
  {
   "cell_type": "code",
   "execution_count": null,
   "metadata": {},
   "outputs": [],
   "source": [
    "class BaggedTree(ml.base.classifier):\n",
    "    def __init__(self, learners):\n",
    "        \"\"\"Constructs a BaggedTree class with a set of learners. \"\"\"\n",
    "        self.learners = learners\n",
    "    \n",
    "    def predictSoft(self, X):\n",
    "        \"\"\"Predicts the probabilities with each bagged learner and average over the results. \"\"\"\n",
    "        n_bags = len(self.learners)\n",
    "        preds = [self.learners[l].predictSoft(X) for l in range(n_bags)]\n",
    "        return np.mean(preds, axis=0)"
   ]
  },
  {
   "cell_type": "code",
   "execution_count": null,
   "metadata": {},
   "outputs": [],
   "source": [
    "n_bags = 30\n",
    "bags = []\n",
    "for l in range(n_bags):\n",
    "    Xi, Yi = ml.bootstrapData(Xtr, Ytr, X.shape[0] //4 )\n",
    "    tree = ml.dtree.treeClassify(Xi, Yi,minLeaf = 8, minParent = 16, maxDepth=28)\n",
    "    bags.append(tree)\n",
    "    \n",
    "bt = BaggedTree(bags)\n",
    "bt.classes = np.unique(Y)\n",
    "probs = bt.predictSoft(Xte)\n",
    "\n",
    "print(probs)\n",
    "print(\"{0:>15}: {1:.4f}\".format('Train AUC', bt.auc(Xtr, Ytr)))\n",
    "print(\"{0:>15}: {1:.4f}\".format('Validation AUC', bt.auc(Xva, Yva)))"
   ]
  }
 ],
 "metadata": {
  "anaconda-cloud": {},
  "kernelspec": {
   "display_name": "Python 3",
   "language": "python",
   "name": "python3"
  },
  "language_info": {
   "codemirror_mode": {
    "name": "ipython",
    "version": 3
   },
   "file_extension": ".py",
   "mimetype": "text/x-python",
   "name": "python",
   "nbconvert_exporter": "python",
   "pygments_lexer": "ipython3",
   "version": "3.7.4"
  }
 },
 "nbformat": 4,
 "nbformat_minor": 2
}
